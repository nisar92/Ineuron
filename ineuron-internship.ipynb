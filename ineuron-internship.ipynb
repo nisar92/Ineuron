{
 "cells": [
  {
   "cell_type": "code",
   "execution_count": 1,
   "id": "97bb4d1a",
   "metadata": {
    "execution": {
     "iopub.execute_input": "2022-11-01T10:24:20.103716Z",
     "iopub.status.busy": "2022-11-01T10:24:20.103049Z",
     "iopub.status.idle": "2022-11-01T10:24:22.728506Z",
     "shell.execute_reply": "2022-11-01T10:24:22.727305Z"
    },
    "papermill": {
     "duration": 2.641086,
     "end_time": "2022-11-01T10:24:22.731473",
     "exception": false,
     "start_time": "2022-11-01T10:24:20.090387",
     "status": "completed"
    },
    "tags": []
   },
   "outputs": [
    {
     "data": {
      "text/html": [
       "<style type='text/css'>\n",
       ".datatable table.frame { margin-bottom: 0; }\n",
       ".datatable table.frame thead { border-bottom: none; }\n",
       ".datatable table.frame tr.coltypes td {  color: #FFFFFF;  line-height: 6px;  padding: 0 0.5em;}\n",
       ".datatable .bool    { background: #DDDD99; }\n",
       ".datatable .object  { background: #565656; }\n",
       ".datatable .int     { background: #5D9E5D; }\n",
       ".datatable .float   { background: #4040CC; }\n",
       ".datatable .str     { background: #CC4040; }\n",
       ".datatable .time    { background: #40CC40; }\n",
       ".datatable .row_index {  background: var(--jp-border-color3);  border-right: 1px solid var(--jp-border-color0);  color: var(--jp-ui-font-color3);  font-size: 9px;}\n",
       ".datatable .frame tbody td { text-align: left; }\n",
       ".datatable .frame tr.coltypes .row_index {  background: var(--jp-border-color0);}\n",
       ".datatable th:nth-child(2) { padding-left: 12px; }\n",
       ".datatable .hellipsis {  color: var(--jp-cell-editor-border-color);}\n",
       ".datatable .vellipsis {  background: var(--jp-layout-color0);  color: var(--jp-cell-editor-border-color);}\n",
       ".datatable .na {  color: var(--jp-cell-editor-border-color);  font-size: 80%;}\n",
       ".datatable .sp {  opacity: 0.25;}\n",
       ".datatable .footer { font-size: 9px; }\n",
       ".datatable .frame_dimensions {  background: var(--jp-border-color3);  border-top: 1px solid var(--jp-border-color0);  color: var(--jp-ui-font-color3);  display: inline-block;  opacity: 0.6;  padding: 1px 10px 1px 5px;}\n",
       "</style>\n"
      ],
      "text/plain": [
       "<IPython.core.display.HTML object>"
      ]
     },
     "metadata": {},
     "output_type": "display_data"
    }
   ],
   "source": [
    "import time\n",
    "import json\n",
    "import numpy as np\n",
    "import pandas as pd\n",
    "from pandas import json_normalize\n",
    "\n",
    "import datetime\n",
    "\n",
    "import seaborn as sns\n",
    "import matplotlib.pyplot as plt\n",
    "\n",
    "import lightgbm as lgb\n",
    "\n",
    "from sklearn.preprocessing import LabelEncoder\n",
    "from sklearn.metrics import mean_squared_error\n",
    "\n",
    "import warnings\n",
    "warnings.filterwarnings('ignore')\n",
    "\n",
    "from flask import Flask,request\n",
    "import pickle"
   ]
  },
  {
   "cell_type": "code",
   "execution_count": 2,
   "id": "571f89c7",
   "metadata": {
    "execution": {
     "iopub.execute_input": "2022-11-01T10:24:22.751519Z",
     "iopub.status.busy": "2022-11-01T10:24:22.751090Z",
     "iopub.status.idle": "2022-11-01T10:24:22.761539Z",
     "shell.execute_reply": "2022-11-01T10:24:22.760165Z"
    },
    "papermill": {
     "duration": 0.023454,
     "end_time": "2022-11-01T10:24:22.764164",
     "exception": false,
     "start_time": "2022-11-01T10:24:22.740710",
     "status": "completed"
    },
    "tags": []
   },
   "outputs": [],
   "source": [
    "def load_df(csv_path, nrows = None):\n",
    "    json_cols = ['device', 'geoNetwork', 'totals', 'trafficSource']\n",
    "    df = pd.read_csv(csv_path,\n",
    "                     #converters are dict of functions for converting values in certain columns. Keys can either be integers or column labels.\n",
    "                     #json.loads() method can be used to parse a valid JSON string and convert it into a Python Dictionary.\n",
    "                     #It is mainly used for deserializing native string, byte, or byte array which consists of JSON data into Python Dictionary.\n",
    "                     converters = {col: json.loads for col in json_cols},                                                                         \n",
    "                         dtype = {'fullVisitorId': 'str'}, # Important!!\n",
    "                         nrows = nrows)\n",
    "    for col in json_cols:\n",
    "        # for each column, flatten data frame such that the values of a single col are spread in different cols\n",
    "        # This will use subcol as names of flat_col.columns\n",
    "        flat_col = json_normalize(df[col])\n",
    "        # Name the columns in this flatten data frame as col.subcol for tracability\n",
    "        flat_col.columns = [f\"{col}.{subcol}\" for subcol in flat_col.columns]\n",
    "        # Drop the json_col and instead add the new flat_col\n",
    "        df = df.drop(col, axis = 1).merge(flat_col, right_index = True, left_index = True)\n",
    "    return df"
   ]
  },
  {
   "cell_type": "code",
   "execution_count": 3,
   "id": "5507a77b",
   "metadata": {
    "execution": {
     "iopub.execute_input": "2022-11-01T10:24:22.783182Z",
     "iopub.status.busy": "2022-11-01T10:24:22.782777Z",
     "iopub.status.idle": "2022-11-01T10:28:20.728102Z",
     "shell.execute_reply": "2022-11-01T10:28:20.726691Z"
    },
    "papermill": {
     "duration": 237.978645,
     "end_time": "2022-11-01T10:28:20.751631",
     "exception": false,
     "start_time": "2022-11-01T10:24:22.772986",
     "status": "completed"
    },
    "tags": []
   },
   "outputs": [
    {
     "name": "stdout",
     "output_type": "stream",
     "text": [
      "CPU times: user 2min 1s, sys: 23.1 s, total: 2min 24s\n",
      "Wall time: 3min 57s\n"
     ]
    },
    {
     "data": {
      "text/plain": [
       "((120000, 60), (401589, 59))"
      ]
     },
     "execution_count": 3,
     "metadata": {},
     "output_type": "execute_result"
    }
   ],
   "source": [
    "%%time\n",
    "train = load_df('../input/ga-customer-revenue-prediction/train_v2.csv', nrows = 120000)\n",
    "test = load_df('../input/ga-customer-revenue-prediction/test_v2.csv', nrows = None)\n",
    "train.shape, test.shape"
   ]
  },
  {
   "cell_type": "code",
   "execution_count": 4,
   "id": "2cd231c4",
   "metadata": {
    "execution": {
     "iopub.execute_input": "2022-11-01T10:28:20.772764Z",
     "iopub.status.busy": "2022-11-01T10:28:20.772240Z",
     "iopub.status.idle": "2022-11-01T10:28:21.157992Z",
     "shell.execute_reply": "2022-11-01T10:28:21.156874Z"
    },
    "papermill": {
     "duration": 0.399715,
     "end_time": "2022-11-01T10:28:21.160622",
     "exception": false,
     "start_time": "2022-11-01T10:28:20.760907",
     "status": "completed"
    },
    "tags": []
   },
   "outputs": [
    {
     "data": {
      "text/html": [
       "<div>\n",
       "<style scoped>\n",
       "    .dataframe tbody tr th:only-of-type {\n",
       "        vertical-align: middle;\n",
       "    }\n",
       "\n",
       "    .dataframe tbody tr th {\n",
       "        vertical-align: top;\n",
       "    }\n",
       "\n",
       "    .dataframe thead th {\n",
       "        text-align: right;\n",
       "    }\n",
       "</style>\n",
       "<table border=\"1\" class=\"dataframe\">\n",
       "  <thead>\n",
       "    <tr style=\"text-align: right;\">\n",
       "      <th></th>\n",
       "      <th>device.mobileDeviceInfo</th>\n",
       "      <th>device.mobileDeviceMarketingName</th>\n",
       "      <th>device.flashVersion</th>\n",
       "      <th>device.language</th>\n",
       "      <th>device.screenColors</th>\n",
       "      <th>device.screenResolution</th>\n",
       "      <th>device.deviceCategory</th>\n",
       "      <th>geoNetwork.continent</th>\n",
       "      <th>geoNetwork.subContinent</th>\n",
       "      <th>geoNetwork.country</th>\n",
       "      <th>...</th>\n",
       "      <th>trafficSource.adwordsClickInfo.criteriaParameters</th>\n",
       "      <th>trafficSource.referralPath</th>\n",
       "      <th>trafficSource.isTrueDirect</th>\n",
       "      <th>trafficSource.adContent</th>\n",
       "      <th>trafficSource.adwordsClickInfo.page</th>\n",
       "      <th>trafficSource.adwordsClickInfo.slot</th>\n",
       "      <th>trafficSource.adwordsClickInfo.gclId</th>\n",
       "      <th>trafficSource.adwordsClickInfo.adNetworkType</th>\n",
       "      <th>trafficSource.adwordsClickInfo.isVideoAd</th>\n",
       "      <th>trafficSource.campaignCode</th>\n",
       "    </tr>\n",
       "  </thead>\n",
       "  <tbody>\n",
       "    <tr>\n",
       "      <th>0</th>\n",
       "      <td>not available in demo dataset</td>\n",
       "      <td>not available in demo dataset</td>\n",
       "      <td>not available in demo dataset</td>\n",
       "      <td>not available in demo dataset</td>\n",
       "      <td>not available in demo dataset</td>\n",
       "      <td>not available in demo dataset</td>\n",
       "      <td>desktop</td>\n",
       "      <td>Europe</td>\n",
       "      <td>Western Europe</td>\n",
       "      <td>Germany</td>\n",
       "      <td>...</td>\n",
       "      <td>not available in demo dataset</td>\n",
       "      <td>NaN</td>\n",
       "      <td>NaN</td>\n",
       "      <td>NaN</td>\n",
       "      <td>NaN</td>\n",
       "      <td>NaN</td>\n",
       "      <td>NaN</td>\n",
       "      <td>NaN</td>\n",
       "      <td>NaN</td>\n",
       "      <td>NaN</td>\n",
       "    </tr>\n",
       "    <tr>\n",
       "      <th>1</th>\n",
       "      <td>not available in demo dataset</td>\n",
       "      <td>not available in demo dataset</td>\n",
       "      <td>not available in demo dataset</td>\n",
       "      <td>not available in demo dataset</td>\n",
       "      <td>not available in demo dataset</td>\n",
       "      <td>not available in demo dataset</td>\n",
       "      <td>desktop</td>\n",
       "      <td>Americas</td>\n",
       "      <td>Northern America</td>\n",
       "      <td>United States</td>\n",
       "      <td>...</td>\n",
       "      <td>not available in demo dataset</td>\n",
       "      <td>/a/google.com/transportation/mtv-services/bike...</td>\n",
       "      <td>NaN</td>\n",
       "      <td>NaN</td>\n",
       "      <td>NaN</td>\n",
       "      <td>NaN</td>\n",
       "      <td>NaN</td>\n",
       "      <td>NaN</td>\n",
       "      <td>NaN</td>\n",
       "      <td>NaN</td>\n",
       "    </tr>\n",
       "    <tr>\n",
       "      <th>2</th>\n",
       "      <td>not available in demo dataset</td>\n",
       "      <td>not available in demo dataset</td>\n",
       "      <td>not available in demo dataset</td>\n",
       "      <td>not available in demo dataset</td>\n",
       "      <td>not available in demo dataset</td>\n",
       "      <td>not available in demo dataset</td>\n",
       "      <td>mobile</td>\n",
       "      <td>Americas</td>\n",
       "      <td>Northern America</td>\n",
       "      <td>United States</td>\n",
       "      <td>...</td>\n",
       "      <td>not available in demo dataset</td>\n",
       "      <td>NaN</td>\n",
       "      <td>True</td>\n",
       "      <td>NaN</td>\n",
       "      <td>NaN</td>\n",
       "      <td>NaN</td>\n",
       "      <td>NaN</td>\n",
       "      <td>NaN</td>\n",
       "      <td>NaN</td>\n",
       "      <td>NaN</td>\n",
       "    </tr>\n",
       "    <tr>\n",
       "      <th>3</th>\n",
       "      <td>not available in demo dataset</td>\n",
       "      <td>not available in demo dataset</td>\n",
       "      <td>not available in demo dataset</td>\n",
       "      <td>not available in demo dataset</td>\n",
       "      <td>not available in demo dataset</td>\n",
       "      <td>not available in demo dataset</td>\n",
       "      <td>desktop</td>\n",
       "      <td>Asia</td>\n",
       "      <td>Western Asia</td>\n",
       "      <td>Turkey</td>\n",
       "      <td>...</td>\n",
       "      <td>not available in demo dataset</td>\n",
       "      <td>NaN</td>\n",
       "      <td>NaN</td>\n",
       "      <td>NaN</td>\n",
       "      <td>NaN</td>\n",
       "      <td>NaN</td>\n",
       "      <td>NaN</td>\n",
       "      <td>NaN</td>\n",
       "      <td>NaN</td>\n",
       "      <td>NaN</td>\n",
       "    </tr>\n",
       "    <tr>\n",
       "      <th>4</th>\n",
       "      <td>not available in demo dataset</td>\n",
       "      <td>not available in demo dataset</td>\n",
       "      <td>not available in demo dataset</td>\n",
       "      <td>not available in demo dataset</td>\n",
       "      <td>not available in demo dataset</td>\n",
       "      <td>not available in demo dataset</td>\n",
       "      <td>desktop</td>\n",
       "      <td>Americas</td>\n",
       "      <td>Central America</td>\n",
       "      <td>Mexico</td>\n",
       "      <td>...</td>\n",
       "      <td>not available in demo dataset</td>\n",
       "      <td>NaN</td>\n",
       "      <td>NaN</td>\n",
       "      <td>NaN</td>\n",
       "      <td>NaN</td>\n",
       "      <td>NaN</td>\n",
       "      <td>NaN</td>\n",
       "      <td>NaN</td>\n",
       "      <td>NaN</td>\n",
       "      <td>NaN</td>\n",
       "    </tr>\n",
       "    <tr>\n",
       "      <th>...</th>\n",
       "      <td>...</td>\n",
       "      <td>...</td>\n",
       "      <td>...</td>\n",
       "      <td>...</td>\n",
       "      <td>...</td>\n",
       "      <td>...</td>\n",
       "      <td>...</td>\n",
       "      <td>...</td>\n",
       "      <td>...</td>\n",
       "      <td>...</td>\n",
       "      <td>...</td>\n",
       "      <td>...</td>\n",
       "      <td>...</td>\n",
       "      <td>...</td>\n",
       "      <td>...</td>\n",
       "      <td>...</td>\n",
       "      <td>...</td>\n",
       "      <td>...</td>\n",
       "      <td>...</td>\n",
       "      <td>...</td>\n",
       "      <td>...</td>\n",
       "    </tr>\n",
       "    <tr>\n",
       "      <th>119995</th>\n",
       "      <td>not available in demo dataset</td>\n",
       "      <td>not available in demo dataset</td>\n",
       "      <td>not available in demo dataset</td>\n",
       "      <td>not available in demo dataset</td>\n",
       "      <td>not available in demo dataset</td>\n",
       "      <td>not available in demo dataset</td>\n",
       "      <td>desktop</td>\n",
       "      <td>Europe</td>\n",
       "      <td>Western Europe</td>\n",
       "      <td>France</td>\n",
       "      <td>...</td>\n",
       "      <td>not available in demo dataset</td>\n",
       "      <td>NaN</td>\n",
       "      <td>True</td>\n",
       "      <td>NaN</td>\n",
       "      <td>NaN</td>\n",
       "      <td>NaN</td>\n",
       "      <td>NaN</td>\n",
       "      <td>NaN</td>\n",
       "      <td>NaN</td>\n",
       "      <td>NaN</td>\n",
       "    </tr>\n",
       "    <tr>\n",
       "      <th>119996</th>\n",
       "      <td>not available in demo dataset</td>\n",
       "      <td>not available in demo dataset</td>\n",
       "      <td>not available in demo dataset</td>\n",
       "      <td>not available in demo dataset</td>\n",
       "      <td>not available in demo dataset</td>\n",
       "      <td>not available in demo dataset</td>\n",
       "      <td>desktop</td>\n",
       "      <td>Americas</td>\n",
       "      <td>Northern America</td>\n",
       "      <td>United States</td>\n",
       "      <td>...</td>\n",
       "      <td>not available in demo dataset</td>\n",
       "      <td>NaN</td>\n",
       "      <td>True</td>\n",
       "      <td>NaN</td>\n",
       "      <td>NaN</td>\n",
       "      <td>NaN</td>\n",
       "      <td>NaN</td>\n",
       "      <td>NaN</td>\n",
       "      <td>NaN</td>\n",
       "      <td>NaN</td>\n",
       "    </tr>\n",
       "    <tr>\n",
       "      <th>119997</th>\n",
       "      <td>not available in demo dataset</td>\n",
       "      <td>not available in demo dataset</td>\n",
       "      <td>not available in demo dataset</td>\n",
       "      <td>not available in demo dataset</td>\n",
       "      <td>not available in demo dataset</td>\n",
       "      <td>not available in demo dataset</td>\n",
       "      <td>mobile</td>\n",
       "      <td>Europe</td>\n",
       "      <td>Western Europe</td>\n",
       "      <td>Germany</td>\n",
       "      <td>...</td>\n",
       "      <td>not available in demo dataset</td>\n",
       "      <td>NaN</td>\n",
       "      <td>NaN</td>\n",
       "      <td>NaN</td>\n",
       "      <td>NaN</td>\n",
       "      <td>NaN</td>\n",
       "      <td>NaN</td>\n",
       "      <td>NaN</td>\n",
       "      <td>NaN</td>\n",
       "      <td>NaN</td>\n",
       "    </tr>\n",
       "    <tr>\n",
       "      <th>119998</th>\n",
       "      <td>not available in demo dataset</td>\n",
       "      <td>not available in demo dataset</td>\n",
       "      <td>not available in demo dataset</td>\n",
       "      <td>not available in demo dataset</td>\n",
       "      <td>not available in demo dataset</td>\n",
       "      <td>not available in demo dataset</td>\n",
       "      <td>desktop</td>\n",
       "      <td>Americas</td>\n",
       "      <td>Northern America</td>\n",
       "      <td>United States</td>\n",
       "      <td>...</td>\n",
       "      <td>not available in demo dataset</td>\n",
       "      <td>/</td>\n",
       "      <td>NaN</td>\n",
       "      <td>NaN</td>\n",
       "      <td>NaN</td>\n",
       "      <td>NaN</td>\n",
       "      <td>NaN</td>\n",
       "      <td>NaN</td>\n",
       "      <td>NaN</td>\n",
       "      <td>NaN</td>\n",
       "    </tr>\n",
       "    <tr>\n",
       "      <th>119999</th>\n",
       "      <td>not available in demo dataset</td>\n",
       "      <td>not available in demo dataset</td>\n",
       "      <td>not available in demo dataset</td>\n",
       "      <td>not available in demo dataset</td>\n",
       "      <td>not available in demo dataset</td>\n",
       "      <td>not available in demo dataset</td>\n",
       "      <td>desktop</td>\n",
       "      <td>Americas</td>\n",
       "      <td>Northern America</td>\n",
       "      <td>United States</td>\n",
       "      <td>...</td>\n",
       "      <td>not available in demo dataset</td>\n",
       "      <td>/</td>\n",
       "      <td>NaN</td>\n",
       "      <td>NaN</td>\n",
       "      <td>NaN</td>\n",
       "      <td>NaN</td>\n",
       "      <td>NaN</td>\n",
       "      <td>NaN</td>\n",
       "      <td>NaN</td>\n",
       "      <td>NaN</td>\n",
       "    </tr>\n",
       "  </tbody>\n",
       "</table>\n",
       "<p>120000 rows × 42 columns</p>\n",
       "</div>"
      ],
      "text/plain": [
       "              device.mobileDeviceInfo device.mobileDeviceMarketingName  \\\n",
       "0       not available in demo dataset    not available in demo dataset   \n",
       "1       not available in demo dataset    not available in demo dataset   \n",
       "2       not available in demo dataset    not available in demo dataset   \n",
       "3       not available in demo dataset    not available in demo dataset   \n",
       "4       not available in demo dataset    not available in demo dataset   \n",
       "...                               ...                              ...   \n",
       "119995  not available in demo dataset    not available in demo dataset   \n",
       "119996  not available in demo dataset    not available in demo dataset   \n",
       "119997  not available in demo dataset    not available in demo dataset   \n",
       "119998  not available in demo dataset    not available in demo dataset   \n",
       "119999  not available in demo dataset    not available in demo dataset   \n",
       "\n",
       "                  device.flashVersion                device.language  \\\n",
       "0       not available in demo dataset  not available in demo dataset   \n",
       "1       not available in demo dataset  not available in demo dataset   \n",
       "2       not available in demo dataset  not available in demo dataset   \n",
       "3       not available in demo dataset  not available in demo dataset   \n",
       "4       not available in demo dataset  not available in demo dataset   \n",
       "...                               ...                            ...   \n",
       "119995  not available in demo dataset  not available in demo dataset   \n",
       "119996  not available in demo dataset  not available in demo dataset   \n",
       "119997  not available in demo dataset  not available in demo dataset   \n",
       "119998  not available in demo dataset  not available in demo dataset   \n",
       "119999  not available in demo dataset  not available in demo dataset   \n",
       "\n",
       "                  device.screenColors        device.screenResolution  \\\n",
       "0       not available in demo dataset  not available in demo dataset   \n",
       "1       not available in demo dataset  not available in demo dataset   \n",
       "2       not available in demo dataset  not available in demo dataset   \n",
       "3       not available in demo dataset  not available in demo dataset   \n",
       "4       not available in demo dataset  not available in demo dataset   \n",
       "...                               ...                            ...   \n",
       "119995  not available in demo dataset  not available in demo dataset   \n",
       "119996  not available in demo dataset  not available in demo dataset   \n",
       "119997  not available in demo dataset  not available in demo dataset   \n",
       "119998  not available in demo dataset  not available in demo dataset   \n",
       "119999  not available in demo dataset  not available in demo dataset   \n",
       "\n",
       "       device.deviceCategory geoNetwork.continent geoNetwork.subContinent  \\\n",
       "0                    desktop               Europe          Western Europe   \n",
       "1                    desktop             Americas        Northern America   \n",
       "2                     mobile             Americas        Northern America   \n",
       "3                    desktop                 Asia            Western Asia   \n",
       "4                    desktop             Americas         Central America   \n",
       "...                      ...                  ...                     ...   \n",
       "119995               desktop               Europe          Western Europe   \n",
       "119996               desktop             Americas        Northern America   \n",
       "119997                mobile               Europe          Western Europe   \n",
       "119998               desktop             Americas        Northern America   \n",
       "119999               desktop             Americas        Northern America   \n",
       "\n",
       "       geoNetwork.country  ...  \\\n",
       "0                 Germany  ...   \n",
       "1           United States  ...   \n",
       "2           United States  ...   \n",
       "3                  Turkey  ...   \n",
       "4                  Mexico  ...   \n",
       "...                   ...  ...   \n",
       "119995             France  ...   \n",
       "119996      United States  ...   \n",
       "119997            Germany  ...   \n",
       "119998      United States  ...   \n",
       "119999      United States  ...   \n",
       "\n",
       "       trafficSource.adwordsClickInfo.criteriaParameters  \\\n",
       "0                          not available in demo dataset   \n",
       "1                          not available in demo dataset   \n",
       "2                          not available in demo dataset   \n",
       "3                          not available in demo dataset   \n",
       "4                          not available in demo dataset   \n",
       "...                                                  ...   \n",
       "119995                     not available in demo dataset   \n",
       "119996                     not available in demo dataset   \n",
       "119997                     not available in demo dataset   \n",
       "119998                     not available in demo dataset   \n",
       "119999                     not available in demo dataset   \n",
       "\n",
       "                               trafficSource.referralPath  \\\n",
       "0                                                     NaN   \n",
       "1       /a/google.com/transportation/mtv-services/bike...   \n",
       "2                                                     NaN   \n",
       "3                                                     NaN   \n",
       "4                                                     NaN   \n",
       "...                                                   ...   \n",
       "119995                                                NaN   \n",
       "119996                                                NaN   \n",
       "119997                                                NaN   \n",
       "119998                                                  /   \n",
       "119999                                                  /   \n",
       "\n",
       "       trafficSource.isTrueDirect trafficSource.adContent  \\\n",
       "0                             NaN                     NaN   \n",
       "1                             NaN                     NaN   \n",
       "2                            True                     NaN   \n",
       "3                             NaN                     NaN   \n",
       "4                             NaN                     NaN   \n",
       "...                           ...                     ...   \n",
       "119995                       True                     NaN   \n",
       "119996                       True                     NaN   \n",
       "119997                        NaN                     NaN   \n",
       "119998                        NaN                     NaN   \n",
       "119999                        NaN                     NaN   \n",
       "\n",
       "       trafficSource.adwordsClickInfo.page  \\\n",
       "0                                      NaN   \n",
       "1                                      NaN   \n",
       "2                                      NaN   \n",
       "3                                      NaN   \n",
       "4                                      NaN   \n",
       "...                                    ...   \n",
       "119995                                 NaN   \n",
       "119996                                 NaN   \n",
       "119997                                 NaN   \n",
       "119998                                 NaN   \n",
       "119999                                 NaN   \n",
       "\n",
       "       trafficSource.adwordsClickInfo.slot  \\\n",
       "0                                      NaN   \n",
       "1                                      NaN   \n",
       "2                                      NaN   \n",
       "3                                      NaN   \n",
       "4                                      NaN   \n",
       "...                                    ...   \n",
       "119995                                 NaN   \n",
       "119996                                 NaN   \n",
       "119997                                 NaN   \n",
       "119998                                 NaN   \n",
       "119999                                 NaN   \n",
       "\n",
       "       trafficSource.adwordsClickInfo.gclId  \\\n",
       "0                                       NaN   \n",
       "1                                       NaN   \n",
       "2                                       NaN   \n",
       "3                                       NaN   \n",
       "4                                       NaN   \n",
       "...                                     ...   \n",
       "119995                                  NaN   \n",
       "119996                                  NaN   \n",
       "119997                                  NaN   \n",
       "119998                                  NaN   \n",
       "119999                                  NaN   \n",
       "\n",
       "       trafficSource.adwordsClickInfo.adNetworkType  \\\n",
       "0                                               NaN   \n",
       "1                                               NaN   \n",
       "2                                               NaN   \n",
       "3                                               NaN   \n",
       "4                                               NaN   \n",
       "...                                             ...   \n",
       "119995                                          NaN   \n",
       "119996                                          NaN   \n",
       "119997                                          NaN   \n",
       "119998                                          NaN   \n",
       "119999                                          NaN   \n",
       "\n",
       "       trafficSource.adwordsClickInfo.isVideoAd trafficSource.campaignCode  \n",
       "0                                           NaN                        NaN  \n",
       "1                                           NaN                        NaN  \n",
       "2                                           NaN                        NaN  \n",
       "3                                           NaN                        NaN  \n",
       "4                                           NaN                        NaN  \n",
       "...                                         ...                        ...  \n",
       "119995                                      NaN                        NaN  \n",
       "119996                                      NaN                        NaN  \n",
       "119997                                      NaN                        NaN  \n",
       "119998                                      NaN                        NaN  \n",
       "119999                                      NaN                        NaN  \n",
       "\n",
       "[120000 rows x 42 columns]"
      ]
     },
     "execution_count": 4,
     "metadata": {},
     "output_type": "execute_result"
    }
   ],
   "source": [
    "train.iloc[:,18:]"
   ]
  },
  {
   "cell_type": "code",
   "execution_count": 5,
   "id": "23ea0ee5",
   "metadata": {
    "execution": {
     "iopub.execute_input": "2022-11-01T10:28:21.183178Z",
     "iopub.status.busy": "2022-11-01T10:28:21.182164Z",
     "iopub.status.idle": "2022-11-01T10:28:21.189437Z",
     "shell.execute_reply": "2022-11-01T10:28:21.188090Z"
    },
    "papermill": {
     "duration": 0.021188,
     "end_time": "2022-11-01T10:28:21.192043",
     "exception": false,
     "start_time": "2022-11-01T10:28:21.170855",
     "status": "completed"
    },
    "tags": []
   },
   "outputs": [
    {
     "data": {
      "text/plain": [
       "dtype('O')"
      ]
     },
     "execution_count": 5,
     "metadata": {},
     "output_type": "execute_result"
    }
   ],
   "source": [
    "train['totals.transactionRevenue'].dtype"
   ]
  },
  {
   "cell_type": "code",
   "execution_count": 6,
   "id": "f3fb014e",
   "metadata": {
    "execution": {
     "iopub.execute_input": "2022-11-01T10:28:21.213987Z",
     "iopub.status.busy": "2022-11-01T10:28:21.213550Z",
     "iopub.status.idle": "2022-11-01T10:28:21.326144Z",
     "shell.execute_reply": "2022-11-01T10:28:21.325023Z"
    },
    "papermill": {
     "duration": 0.126819,
     "end_time": "2022-11-01T10:28:21.328790",
     "exception": false,
     "start_time": "2022-11-01T10:28:21.201971",
     "status": "completed"
    },
    "tags": []
   },
   "outputs": [],
   "source": [
    "train['totals.transactionRevenue']=train['totals.transactionRevenue'].astype('float')"
   ]
  },
  {
   "cell_type": "code",
   "execution_count": 7,
   "id": "b3ac5d14",
   "metadata": {
    "execution": {
     "iopub.execute_input": "2022-11-01T10:28:21.351996Z",
     "iopub.status.busy": "2022-11-01T10:28:21.350933Z",
     "iopub.status.idle": "2022-11-01T10:28:21.536265Z",
     "shell.execute_reply": "2022-11-01T10:28:21.535153Z"
    },
    "papermill": {
     "duration": 0.200202,
     "end_time": "2022-11-01T10:28:21.539198",
     "exception": false,
     "start_time": "2022-11-01T10:28:21.338996",
     "status": "completed"
    },
    "tags": []
   },
   "outputs": [],
   "source": [
    "target=train.groupby('fullVisitorId')['totals.transactionRevenue'].sum().reset_index()\n",
    "cus_rev=target[target['totals.transactionRevenue']>0]"
   ]
  },
  {
   "cell_type": "code",
   "execution_count": 8,
   "id": "53ceb28a",
   "metadata": {
    "execution": {
     "iopub.execute_input": "2022-11-01T10:28:21.561785Z",
     "iopub.status.busy": "2022-11-01T10:28:21.560489Z",
     "iopub.status.idle": "2022-11-01T10:28:21.568132Z",
     "shell.execute_reply": "2022-11-01T10:28:21.566843Z"
    },
    "papermill": {
     "duration": 0.021512,
     "end_time": "2022-11-01T10:28:21.570647",
     "exception": false,
     "start_time": "2022-11-01T10:28:21.549135",
     "status": "completed"
    },
    "tags": []
   },
   "outputs": [
    {
     "name": "stdout",
     "output_type": "stream",
     "text": [
      "percentage of customers who generate revenue:  1.11\n"
     ]
    }
   ],
   "source": [
    "print('percentage of customers who generate revenue: ',round((cus_rev.shape[0])*100/target.shape[0],2))"
   ]
  },
  {
   "cell_type": "code",
   "execution_count": 9,
   "id": "4e22715b",
   "metadata": {
    "execution": {
     "iopub.execute_input": "2022-11-01T10:28:21.592552Z",
     "iopub.status.busy": "2022-11-01T10:28:21.592111Z",
     "iopub.status.idle": "2022-11-01T10:28:22.240161Z",
     "shell.execute_reply": "2022-11-01T10:28:22.238755Z"
    },
    "papermill": {
     "duration": 0.662353,
     "end_time": "2022-11-01T10:28:22.243004",
     "exception": false,
     "start_time": "2022-11-01T10:28:21.580651",
     "status": "completed"
    },
    "tags": []
   },
   "outputs": [
    {
     "data": {
      "text/plain": [
       "<AxesSubplot:xlabel='device.operatingSystem', ylabel='count'>"
      ]
     },
     "execution_count": 9,
     "metadata": {},
     "output_type": "execute_result"
    },
    {
     "data": {
      "image/png": "[encoded data removed]",
      "text/plain": [
       "<Figure size 576x288 with 1 Axes>"
      ]
     },
     "metadata": {
      "needs_background": "light"
     },
     "output_type": "display_data"
    }
   ],
   "source": [
    "trans_rev=train[train['totals.transactionRevenue']>0]\n",
    "fig, ax = plt.subplots(figsize=(8,4))\n",
    "sns.countplot(trans_rev['device.operatingSystem'],ax=ax)"
   ]
  },
  {
   "cell_type": "code",
   "execution_count": 10,
   "id": "b235f5a9",
   "metadata": {
    "execution": {
     "iopub.execute_input": "2022-11-01T10:28:22.266693Z",
     "iopub.status.busy": "2022-11-01T10:28:22.265288Z",
     "iopub.status.idle": "2022-11-01T10:28:22.482813Z",
     "shell.execute_reply": "2022-11-01T10:28:22.481503Z"
    },
    "papermill": {
     "duration": 0.232372,
     "end_time": "2022-11-01T10:28:22.485696",
     "exception": false,
     "start_time": "2022-11-01T10:28:22.253324",
     "status": "completed"
    },
    "tags": []
   },
   "outputs": [
    {
     "data": {
      "text/plain": [
       "<AxesSubplot:xlabel='geoNetwork.continent', ylabel='count'>"
      ]
     },
     "execution_count": 10,
     "metadata": {},
     "output_type": "execute_result"
    },
    {
     "data": {
      "image/png": "[encoded data removed]",
      "text/plain": [
       "<Figure size 432x288 with 1 Axes>"
      ]
     },
     "metadata": {
      "needs_background": "light"
     },
     "output_type": "display_data"
    }
   ],
   "source": [
    "sns.countplot(trans_rev['geoNetwork.continent'])"
   ]
  },
  {
   "cell_type": "code",
   "execution_count": 11,
   "id": "2325bed3",
   "metadata": {
    "execution": {
     "iopub.execute_input": "2022-11-01T10:28:22.509337Z",
     "iopub.status.busy": "2022-11-01T10:28:22.508853Z",
     "iopub.status.idle": "2022-11-01T10:28:23.145462Z",
     "shell.execute_reply": "2022-11-01T10:28:23.144250Z"
    },
    "papermill": {
     "duration": 0.651586,
     "end_time": "2022-11-01T10:28:23.148063",
     "exception": false,
     "start_time": "2022-11-01T10:28:22.496477",
     "status": "completed"
    },
    "tags": []
   },
   "outputs": [
    {
     "name": "stdout",
     "output_type": "stream",
     "text": [
      "Number of columns with missing values in train set: 18\n"
     ]
    },
    {
     "data": {
      "text/html": [
       "<div>\n",
       "<style scoped>\n",
       "    .dataframe tbody tr th:only-of-type {\n",
       "        vertical-align: middle;\n",
       "    }\n",
       "\n",
       "    .dataframe tbody tr th {\n",
       "        vertical-align: top;\n",
       "    }\n",
       "\n",
       "    .dataframe thead th {\n",
       "        text-align: right;\n",
       "    }\n",
       "</style>\n",
       "<table border=\"1\" class=\"dataframe\">\n",
       "  <thead>\n",
       "    <tr style=\"text-align: right;\">\n",
       "      <th></th>\n",
       "      <th>NaN_val(%)</th>\n",
       "    </tr>\n",
       "  </thead>\n",
       "  <tbody>\n",
       "    <tr>\n",
       "      <th>totals.pageviews</th>\n",
       "      <td>0.010000</td>\n",
       "    </tr>\n",
       "    <tr>\n",
       "      <th>totals.newVisits</th>\n",
       "      <td>23.768333</td>\n",
       "    </tr>\n",
       "    <tr>\n",
       "      <th>totals.bounces</th>\n",
       "      <td>49.532500</td>\n",
       "    </tr>\n",
       "    <tr>\n",
       "      <th>totals.timeOnSite</th>\n",
       "      <td>50.611667</td>\n",
       "    </tr>\n",
       "    <tr>\n",
       "      <th>totals.sessionQualityDim</th>\n",
       "      <td>54.761667</td>\n",
       "    </tr>\n",
       "    <tr>\n",
       "      <th>trafficSource.keyword</th>\n",
       "      <td>66.640000</td>\n",
       "    </tr>\n",
       "    <tr>\n",
       "      <th>trafficSource.referralPath</th>\n",
       "      <td>67.336667</td>\n",
       "    </tr>\n",
       "    <tr>\n",
       "      <th>trafficSource.isTrueDirect</th>\n",
       "      <td>69.450833</td>\n",
       "    </tr>\n",
       "    <tr>\n",
       "      <th>trafficSource.adwordsClickInfo.gclId</th>\n",
       "      <td>94.719167</td>\n",
       "    </tr>\n",
       "    <tr>\n",
       "      <th>trafficSource.adwordsClickInfo.isVideoAd</th>\n",
       "      <td>94.763333</td>\n",
       "    </tr>\n",
       "    <tr>\n",
       "      <th>trafficSource.adwordsClickInfo.page</th>\n",
       "      <td>94.763333</td>\n",
       "    </tr>\n",
       "    <tr>\n",
       "      <th>trafficSource.adwordsClickInfo.slot</th>\n",
       "      <td>94.763333</td>\n",
       "    </tr>\n",
       "    <tr>\n",
       "      <th>trafficSource.adwordsClickInfo.adNetworkType</th>\n",
       "      <td>94.763333</td>\n",
       "    </tr>\n",
       "    <tr>\n",
       "      <th>trafficSource.adContent</th>\n",
       "      <td>95.382500</td>\n",
       "    </tr>\n",
       "    <tr>\n",
       "      <th>totals.transactions</th>\n",
       "      <td>98.971667</td>\n",
       "    </tr>\n",
       "    <tr>\n",
       "      <th>totals.transactionRevenue</th>\n",
       "      <td>98.976667</td>\n",
       "    </tr>\n",
       "    <tr>\n",
       "      <th>totals.totalTransactionRevenue</th>\n",
       "      <td>98.976667</td>\n",
       "    </tr>\n",
       "    <tr>\n",
       "      <th>trafficSource.campaignCode</th>\n",
       "      <td>99.999167</td>\n",
       "    </tr>\n",
       "  </tbody>\n",
       "</table>\n",
       "</div>"
      ],
      "text/plain": [
       "                                              NaN_val(%)\n",
       "totals.pageviews                                0.010000\n",
       "totals.newVisits                               23.768333\n",
       "totals.bounces                                 49.532500\n",
       "totals.timeOnSite                              50.611667\n",
       "totals.sessionQualityDim                       54.761667\n",
       "trafficSource.keyword                          66.640000\n",
       "trafficSource.referralPath                     67.336667\n",
       "trafficSource.isTrueDirect                     69.450833\n",
       "trafficSource.adwordsClickInfo.gclId           94.719167\n",
       "trafficSource.adwordsClickInfo.isVideoAd       94.763333\n",
       "trafficSource.adwordsClickInfo.page            94.763333\n",
       "trafficSource.adwordsClickInfo.slot            94.763333\n",
       "trafficSource.adwordsClickInfo.adNetworkType   94.763333\n",
       "trafficSource.adContent                        95.382500\n",
       "totals.transactions                            98.971667\n",
       "totals.transactionRevenue                      98.976667\n",
       "totals.totalTransactionRevenue                 98.976667\n",
       "trafficSource.campaignCode                     99.999167"
      ]
     },
     "execution_count": 11,
     "metadata": {},
     "output_type": "execute_result"
    }
   ],
   "source": [
    "missing_val = pd.DataFrame()\n",
    "cols=train.columns\n",
    "for col in cols:\n",
    "    na_count = train[col].isna().sum()\n",
    "    if na_count != 0:\n",
    "        missing_val.loc[col, 'NaN_val(%)'] = na_count/len(train)*100\n",
    "print('Number of columns with missing values in train set:', len(missing_val))\n",
    "missing_val.sort_values('NaN_val(%)', inplace = True)\n",
    "missing_val"
   ]
  },
  {
   "cell_type": "code",
   "execution_count": 12,
   "id": "f7444df8",
   "metadata": {
    "execution": {
     "iopub.execute_input": "2022-11-01T10:28:23.172599Z",
     "iopub.status.busy": "2022-11-01T10:28:23.171451Z",
     "iopub.status.idle": "2022-11-01T10:28:24.262219Z",
     "shell.execute_reply": "2022-11-01T10:28:24.260864Z"
    },
    "papermill": {
     "duration": 1.106248,
     "end_time": "2022-11-01T10:28:24.265305",
     "exception": false,
     "start_time": "2022-11-01T10:28:23.159057",
     "status": "completed"
    },
    "tags": []
   },
   "outputs": [
    {
     "data": {
      "image/png": "[encoded data removed]",
      "text/plain": [
       "<Figure size 864x432 with 1 Axes>"
      ]
     },
     "metadata": {
      "needs_background": "light"
     },
     "output_type": "display_data"
    }
   ],
   "source": [
    "mis_val=train.isna().sum()\n",
    "missing_val=round(mis_val[(mis_val>0)]/len(train)*100,2).sort_values()\n",
    "fig,ax = plt.subplots(figsize = (12,6))\n",
    "sns.barplot(missing_val,y=missing_val.index)\n",
    "_ = ax.bar_label(ax.containers[0])"
   ]
  },
  {
   "cell_type": "code",
   "execution_count": 13,
   "id": "3927a47b",
   "metadata": {
    "execution": {
     "iopub.execute_input": "2022-11-01T10:28:24.292448Z",
     "iopub.status.busy": "2022-11-01T10:28:24.292031Z",
     "iopub.status.idle": "2022-11-01T10:28:24.308131Z",
     "shell.execute_reply": "2022-11-01T10:28:24.306788Z"
    },
    "papermill": {
     "duration": 0.032909,
     "end_time": "2022-11-01T10:28:24.310985",
     "exception": false,
     "start_time": "2022-11-01T10:28:24.278076",
     "status": "completed"
    },
    "tags": []
   },
   "outputs": [
    {
     "data": {
      "text/plain": [
       "1    91478\n",
       "Name: totals.newVisits, dtype: int64"
      ]
     },
     "execution_count": 13,
     "metadata": {},
     "output_type": "execute_result"
    }
   ],
   "source": [
    "train['totals.newVisits'].value_counts()"
   ]
  },
  {
   "cell_type": "code",
   "execution_count": 14,
   "id": "4ef0bd3d",
   "metadata": {
    "execution": {
     "iopub.execute_input": "2022-11-01T10:28:24.337886Z",
     "iopub.status.busy": "2022-11-01T10:28:24.337188Z",
     "iopub.status.idle": "2022-11-01T10:28:29.126532Z",
     "shell.execute_reply": "2022-11-01T10:28:29.125165Z"
    },
    "papermill": {
     "duration": 4.806227,
     "end_time": "2022-11-01T10:28:29.129362",
     "exception": false,
     "start_time": "2022-11-01T10:28:24.323135",
     "status": "completed"
    },
    "tags": []
   },
   "outputs": [
    {
     "name": "stdout",
     "output_type": "stream",
     "text": [
      "['socialEngagementType', 'device.browserVersion', 'device.browserSize', 'device.operatingSystemVersion', 'device.mobileDeviceBranding', 'device.mobileDeviceModel', 'device.mobileInputSelector', 'device.mobileDeviceInfo', 'device.mobileDeviceMarketingName', 'device.flashVersion', 'device.language', 'device.screenColors', 'device.screenResolution', 'geoNetwork.cityId', 'geoNetwork.latitude', 'geoNetwork.longitude', 'geoNetwork.networkLocation', 'totals.visits', 'totals.bounces', 'totals.newVisits', 'trafficSource.adwordsClickInfo.criteriaParameters', 'trafficSource.isTrueDirect', 'trafficSource.adwordsClickInfo.isVideoAd', 'trafficSource.campaignCode']\n"
     ]
    }
   ],
   "source": [
    "cons=[]\n",
    "for i in cols:\n",
    "    if train[i].nunique()==1:\n",
    "        cons.append(i)\n",
    "print(cons,sep=' ')"
   ]
  },
  {
   "cell_type": "code",
   "execution_count": 15,
   "id": "8aeabc3d",
   "metadata": {
    "execution": {
     "iopub.execute_input": "2022-11-01T10:28:29.155400Z",
     "iopub.status.busy": "2022-11-01T10:28:29.154388Z",
     "iopub.status.idle": "2022-11-01T10:28:29.165965Z",
     "shell.execute_reply": "2022-11-01T10:28:29.164678Z"
    },
    "papermill": {
     "duration": 0.027293,
     "end_time": "2022-11-01T10:28:29.168542",
     "exception": false,
     "start_time": "2022-11-01T10:28:29.141249",
     "status": "completed"
    },
    "tags": []
   },
   "outputs": [
    {
     "data": {
      "text/plain": [
       "0         0.0\n",
       "1         0.0\n",
       "2         0.0\n",
       "3         0.0\n",
       "4         0.0\n",
       "         ... \n",
       "119995    0.0\n",
       "119996    0.0\n",
       "119997    0.0\n",
       "119998    0.0\n",
       "119999    0.0\n",
       "Name: totals.transactionRevenue, Length: 120000, dtype: float64"
      ]
     },
     "execution_count": 15,
     "metadata": {},
     "output_type": "execute_result"
    }
   ],
   "source": [
    "y_train_ = train['totals.transactionRevenue']\n",
    "y_train_.fillna(0, inplace = True)\n",
    "y_train_.astype('float')"
   ]
  },
  {
   "cell_type": "code",
   "execution_count": 16,
   "id": "b3a6f5cd",
   "metadata": {
    "execution": {
     "iopub.execute_input": "2022-11-01T10:28:29.195125Z",
     "iopub.status.busy": "2022-11-01T10:28:29.194673Z",
     "iopub.status.idle": "2022-11-01T10:28:32.080404Z",
     "shell.execute_reply": "2022-11-01T10:28:32.079365Z"
    },
    "papermill": {
     "duration": 2.902003,
     "end_time": "2022-11-01T10:28:32.082888",
     "exception": false,
     "start_time": "2022-11-01T10:28:29.180885",
     "status": "completed"
    },
    "tags": []
   },
   "outputs": [],
   "source": [
    "for i in missing_val.index:\n",
    "    if missing_val.loc[i]>48:\n",
    "        train.drop(i,1,inplace=True)\n",
    "    else:\n",
    "        train[i].fillna('0', inplace = True)\n",
    "        test[i].fillna('0', inplace = True)"
   ]
  },
  {
   "cell_type": "code",
   "execution_count": 17,
   "id": "7bfd6714",
   "metadata": {
    "execution": {
     "iopub.execute_input": "2022-11-01T10:28:32.109082Z",
     "iopub.status.busy": "2022-11-01T10:28:32.108670Z",
     "iopub.status.idle": "2022-11-01T10:28:34.427480Z",
     "shell.execute_reply": "2022-11-01T10:28:34.425342Z"
    },
    "papermill": {
     "duration": 2.335537,
     "end_time": "2022-11-01T10:28:34.430518",
     "exception": false,
     "start_time": "2022-11-01T10:28:32.094981",
     "status": "completed"
    },
    "tags": []
   },
   "outputs": [
    {
     "name": "stdout",
     "output_type": "stream",
     "text": [
      "Number of columns in the training set 25\n"
     ]
    }
   ],
   "source": [
    "for col in cons:\n",
    "    if col not in missing_val.index:\n",
    "        train.drop(col, axis = 1, inplace = True)\n",
    "\n",
    "print('Number of columns in the training set',len(train.columns))"
   ]
  },
  {
   "cell_type": "code",
   "execution_count": 18,
   "id": "70893463",
   "metadata": {
    "execution": {
     "iopub.execute_input": "2022-11-01T10:28:34.461083Z",
     "iopub.status.busy": "2022-11-01T10:28:34.460655Z",
     "iopub.status.idle": "2022-11-01T10:28:34.705755Z",
     "shell.execute_reply": "2022-11-01T10:28:34.704453Z"
    },
    "papermill": {
     "duration": 0.264752,
     "end_time": "2022-11-01T10:28:34.708951",
     "exception": false,
     "start_time": "2022-11-01T10:28:34.444199",
     "status": "completed"
    },
    "tags": []
   },
   "outputs": [],
   "source": [
    "irrelavant = ['fullVisitorId', 'visitId', 'trafficSource.campaign']\n",
    "for col in irrelavant:\n",
    "    train.drop(col, axis = 1, inplace = True)"
   ]
  },
  {
   "cell_type": "code",
   "execution_count": 19,
   "id": "3993eeeb",
   "metadata": {
    "execution": {
     "iopub.execute_input": "2022-11-01T10:28:34.736292Z",
     "iopub.status.busy": "2022-11-01T10:28:34.735309Z",
     "iopub.status.idle": "2022-11-01T10:28:37.575397Z",
     "shell.execute_reply": "2022-11-01T10:28:37.574066Z"
    },
    "papermill": {
     "duration": 2.857064,
     "end_time": "2022-11-01T10:28:37.578387",
     "exception": false,
     "start_time": "2022-11-01T10:28:34.721323",
     "status": "completed"
    },
    "tags": []
   },
   "outputs": [
    {
     "name": "stdout",
     "output_type": "stream",
     "text": [
      "1508198450\n",
      "2017-10-17 00:00:50 1 0 17\n",
      "1526099341\n",
      "2018-05-12 04:29:01 5 0 12\n"
     ]
    }
   ],
   "source": [
    "for df in [train, test]:\n",
    "    print(df['visitStartTime'][0])\n",
    "    df['visitStartTime'] = pd.to_datetime(df['visitStartTime'], unit='s')\n",
    "    df['rec_dayofweek'] = df['visitStartTime'].dt.dayofweek\n",
    "    df['rec_hours'] = df['visitStartTime'].dt.hour\n",
    "    df['rec_dayofmonth'] = df['visitStartTime'].dt.day\n",
    "    print(df['visitStartTime'][0], df['rec_dayofweek'][0], train['rec_hours'][0], df['rec_dayofmonth'][0])\n",
    "    df.drop('visitStartTime', axis = 1, inplace = True)"
   ]
  },
  {
   "cell_type": "code",
   "execution_count": 20,
   "id": "52df2518",
   "metadata": {
    "execution": {
     "iopub.execute_input": "2022-11-01T10:28:37.605263Z",
     "iopub.status.busy": "2022-11-01T10:28:37.604848Z",
     "iopub.status.idle": "2022-11-01T10:29:04.170826Z",
     "shell.execute_reply": "2022-11-01T10:29:04.169377Z"
    },
    "papermill": {
     "duration": 26.583505,
     "end_time": "2022-11-01T10:29:04.174473",
     "exception": false,
     "start_time": "2022-11-01T10:28:37.590968",
     "status": "completed"
    },
    "tags": []
   },
   "outputs": [
    {
     "name": "stdout",
     "output_type": "stream",
     "text": [
      "Columns that are converted to numerical values with label encodedr:\n",
      "channelGrouping\n",
      "customDimensions\n",
      "hits\n",
      "device.browser\n",
      "device.operatingSystem\n",
      "device.deviceCategory\n",
      "geoNetwork.continent\n",
      "geoNetwork.subContinent\n",
      "geoNetwork.country\n",
      "geoNetwork.region\n",
      "geoNetwork.metro\n",
      "geoNetwork.city\n",
      "geoNetwork.networkDomain\n",
      "totals.hits\n",
      "totals.pageviews\n",
      "totals.newVisits\n",
      "trafficSource.source\n",
      "trafficSource.medium\n"
     ]
    }
   ],
   "source": [
    "le = LabelEncoder()\n",
    "print('Columns that are converted to numerical values with label encodedr:')\n",
    "for col in train.columns:\n",
    "    if train[col].dtype == 'O':\n",
    "        print(col)\n",
    "        #print(col, train[col].unique())\n",
    "        train.loc[:, col] = le.fit_transform(train.loc[:, col])\n",
    "        test.loc[:, col] = le.fit_transform(test.loc[:, col])"
   ]
  },
  {
   "cell_type": "code",
   "execution_count": 21,
   "id": "2cfdcc0e",
   "metadata": {
    "execution": {
     "iopub.execute_input": "2022-11-01T10:29:04.204207Z",
     "iopub.status.busy": "2022-11-01T10:29:04.203786Z",
     "iopub.status.idle": "2022-11-01T10:29:04.241893Z",
     "shell.execute_reply": "2022-11-01T10:29:04.240785Z"
    },
    "papermill": {
     "duration": 0.056728,
     "end_time": "2022-11-01T10:29:04.244971",
     "exception": false,
     "start_time": "2022-11-01T10:29:04.188243",
     "status": "completed"
    },
    "tags": []
   },
   "outputs": [],
   "source": [
    "for col in train.columns:\n",
    "    train[col] = train[col].astype('float')"
   ]
  },
  {
   "cell_type": "code",
   "execution_count": 22,
   "id": "1a343308",
   "metadata": {
    "execution": {
     "iopub.execute_input": "2022-11-01T10:29:04.274039Z",
     "iopub.status.busy": "2022-11-01T10:29:04.273449Z",
     "iopub.status.idle": "2022-11-01T10:29:13.025156Z",
     "shell.execute_reply": "2022-11-01T10:29:13.023451Z"
    },
    "papermill": {
     "duration": 8.770147,
     "end_time": "2022-11-01T10:29:13.028558",
     "exception": false,
     "start_time": "2022-11-01T10:29:04.258411",
     "status": "completed"
    },
    "tags": []
   },
   "outputs": [
    {
     "name": "stdout",
     "output_type": "stream",
     "text": [
      "<class 'pandas.core.frame.DataFrame'>\n",
      "RangeIndex: 401589 entries, 0 to 401588\n",
      "Data columns (total 24 columns):\n",
      " #   Column                    Non-Null Count   Dtype\n",
      "---  ------                    --------------   -----\n",
      " 0   channelGrouping           401589 non-null  int64\n",
      " 1   customDimensions          401589 non-null  int64\n",
      " 2   date                      401589 non-null  int64\n",
      " 3   hits                      401589 non-null  int64\n",
      " 4   visitNumber               401589 non-null  int64\n",
      " 5   device.browser            401589 non-null  int64\n",
      " 6   device.operatingSystem    401589 non-null  int64\n",
      " 7   device.isMobile           401589 non-null  bool \n",
      " 8   device.deviceCategory     401589 non-null  int64\n",
      " 9   geoNetwork.continent      401589 non-null  int64\n",
      " 10  geoNetwork.subContinent   401589 non-null  int64\n",
      " 11  geoNetwork.country        401589 non-null  int64\n",
      " 12  geoNetwork.region         401589 non-null  int64\n",
      " 13  geoNetwork.metro          401589 non-null  int64\n",
      " 14  geoNetwork.city           401589 non-null  int64\n",
      " 15  geoNetwork.networkDomain  401589 non-null  int64\n",
      " 16  totals.hits               401589 non-null  int64\n",
      " 17  totals.pageviews          401589 non-null  int64\n",
      " 18  totals.newVisits          401589 non-null  int64\n",
      " 19  trafficSource.source      401589 non-null  int64\n",
      " 20  trafficSource.medium      401589 non-null  int64\n",
      " 21  rec_dayofweek             401589 non-null  int64\n",
      " 22  rec_hours                 401589 non-null  int64\n",
      " 23  rec_dayofmonth            401589 non-null  int64\n",
      "dtypes: bool(1), int64(23)\n",
      "memory usage: 70.9 MB\n"
     ]
    }
   ],
   "source": [
    "fullvisitorid = []\n",
    "for col in test.columns:\n",
    "    if col == 'fullVisitorId':\n",
    "        fullvisitorid = test[col] \n",
    "    if col not in train.columns:\n",
    "        test.drop(col, axis = 1, inplace = True)\n",
    "test.info()"
   ]
  },
  {
   "cell_type": "code",
   "execution_count": 23,
   "id": "dadab01b",
   "metadata": {
    "execution": {
     "iopub.execute_input": "2022-11-01T10:29:13.058796Z",
     "iopub.status.busy": "2022-11-01T10:29:13.057843Z",
     "iopub.status.idle": "2022-11-01T10:29:13.333351Z",
     "shell.execute_reply": "2022-11-01T10:29:13.331873Z"
    },
    "papermill": {
     "duration": 0.293652,
     "end_time": "2022-11-01T10:29:13.336543",
     "exception": false,
     "start_time": "2022-11-01T10:29:13.042891",
     "status": "completed"
    },
    "tags": []
   },
   "outputs": [],
   "source": [
    "for col in test.columns:\n",
    "    test[col] = test[col].astype('float')"
   ]
  },
  {
   "cell_type": "code",
   "execution_count": 24,
   "id": "fdc963ed",
   "metadata": {
    "execution": {
     "iopub.execute_input": "2022-11-01T10:29:13.365267Z",
     "iopub.status.busy": "2022-11-01T10:29:13.364855Z",
     "iopub.status.idle": "2022-11-01T10:29:13.371399Z",
     "shell.execute_reply": "2022-11-01T10:29:13.370096Z"
    },
    "papermill": {
     "duration": 0.02368,
     "end_time": "2022-11-01T10:29:13.373710",
     "exception": false,
     "start_time": "2022-11-01T10:29:13.350030",
     "status": "completed"
    },
    "tags": []
   },
   "outputs": [],
   "source": [
    "model = lgb.LGBMRegressor(\n",
    "        num_leaves = 31,  #(default = 31) – Maximum tree leaves for base learners.\n",
    "        learning_rate = 0.03, #(default = 0.1) – Boosting learning rate. You can use callbacks parameter of fit method to shrink/adapt learning rate in training using \n",
    "                              #reset_parameter callback. Note, that this will ignore the learning_rate argument in training.\n",
    "        n_estimators = 1000, #(default = 100) – Number of boosted trees to fit.\n",
    "        subsample = .9, #(default = 1.) – Subsample ratio of the training instance.\n",
    "        colsample_bytree = .9, #(default = 1.) – Subsample ratio of columns when constructing each tree\n",
    "        random_state = 34\n",
    ")"
   ]
  },
  {
   "cell_type": "code",
   "execution_count": 25,
   "id": "23e200fe",
   "metadata": {
    "execution": {
     "iopub.execute_input": "2022-11-01T10:29:13.402258Z",
     "iopub.status.busy": "2022-11-01T10:29:13.401836Z",
     "iopub.status.idle": "2022-11-01T10:29:13.410159Z",
     "shell.execute_reply": "2022-11-01T10:29:13.409091Z"
    },
    "papermill": {
     "duration": 0.025631,
     "end_time": "2022-11-01T10:29:13.412694",
     "exception": false,
     "start_time": "2022-11-01T10:29:13.387063",
     "status": "completed"
    },
    "tags": []
   },
   "outputs": [
    {
     "data": {
      "text/plain": [
       "(20160811.0, 20180429.0)"
      ]
     },
     "execution_count": 25,
     "metadata": {},
     "output_type": "execute_result"
    }
   ],
   "source": [
    "train['date'].min(), train['date'].max()"
   ]
  },
  {
   "cell_type": "code",
   "execution_count": 26,
   "id": "4f8f3e43",
   "metadata": {
    "execution": {
     "iopub.execute_input": "2022-11-01T10:29:13.441212Z",
     "iopub.status.busy": "2022-11-01T10:29:13.440779Z",
     "iopub.status.idle": "2022-11-01T10:29:13.480858Z",
     "shell.execute_reply": "2022-11-01T10:29:13.478787Z"
    },
    "papermill": {
     "duration": 0.058351,
     "end_time": "2022-11-01T10:29:13.484425",
     "exception": false,
     "start_time": "2022-11-01T10:29:13.426074",
     "status": "completed"
    },
    "tags": []
   },
   "outputs": [
    {
     "name": "stdout",
     "output_type": "stream",
     "text": [
      "Number of samples in train set: 84825\n",
      "Number of samples in validation set: 35175\n"
     ]
    }
   ],
   "source": [
    "x_train = train[ train['date'] < 20171101 ]\n",
    "x_valid = train[ train['date'] >= 20171101 ]\n",
    "print('Number of samples in train set:', len(x_train))\n",
    "print('Number of samples in validation set:',len(x_valid))"
   ]
  },
  {
   "cell_type": "code",
   "execution_count": 27,
   "id": "1fe971a4",
   "metadata": {
    "execution": {
     "iopub.execute_input": "2022-11-01T10:29:13.513778Z",
     "iopub.status.busy": "2022-11-01T10:29:13.513301Z",
     "iopub.status.idle": "2022-11-01T10:29:13.520156Z",
     "shell.execute_reply": "2022-11-01T10:29:13.518646Z"
    },
    "papermill": {
     "duration": 0.024674,
     "end_time": "2022-11-01T10:29:13.522997",
     "exception": false,
     "start_time": "2022-11-01T10:29:13.498323",
     "status": "completed"
    },
    "tags": []
   },
   "outputs": [],
   "source": [
    "y_train_len = len(x_train)\n",
    "y_train = y_train_[:y_train_len]\n",
    "y_valid = y_train_[y_train_len:]"
   ]
  },
  {
   "cell_type": "code",
   "execution_count": 28,
   "id": "f3769450",
   "metadata": {
    "execution": {
     "iopub.execute_input": "2022-11-01T10:29:13.554211Z",
     "iopub.status.busy": "2022-11-01T10:29:13.553782Z",
     "iopub.status.idle": "2022-11-01T10:29:13.569518Z",
     "shell.execute_reply": "2022-11-01T10:29:13.567557Z"
    },
    "papermill": {
     "duration": 0.036221,
     "end_time": "2022-11-01T10:29:13.573069",
     "exception": false,
     "start_time": "2022-11-01T10:29:13.536848",
     "status": "completed"
    },
    "tags": []
   },
   "outputs": [],
   "source": [
    "x_train.drop('date', axis = 1, inplace = True)\n",
    "x_valid.drop('date', axis = 1, inplace = True)"
   ]
  },
  {
   "cell_type": "code",
   "execution_count": 29,
   "id": "d0b6991a",
   "metadata": {
    "execution": {
     "iopub.execute_input": "2022-11-01T10:29:13.605446Z",
     "iopub.status.busy": "2022-11-01T10:29:13.603995Z",
     "iopub.status.idle": "2022-11-01T10:29:13.612622Z",
     "shell.execute_reply": "2022-11-01T10:29:13.610654Z"
    },
    "papermill": {
     "duration": 0.027111,
     "end_time": "2022-11-01T10:29:13.615671",
     "exception": false,
     "start_time": "2022-11-01T10:29:13.588560",
     "status": "completed"
    },
    "tags": []
   },
   "outputs": [
    {
     "name": "stdout",
     "output_type": "stream",
     "text": [
      "84825 84825\n",
      "35175 35175\n"
     ]
    }
   ],
   "source": [
    "print(len(x_train), len(y_train))\n",
    "print(len(x_valid), len(y_valid))"
   ]
  },
  {
   "cell_type": "code",
   "execution_count": 30,
   "id": "4017dee1",
   "metadata": {
    "execution": {
     "iopub.execute_input": "2022-11-01T10:29:13.646231Z",
     "iopub.status.busy": "2022-11-01T10:29:13.645669Z",
     "iopub.status.idle": "2022-11-01T10:29:14.319546Z",
     "shell.execute_reply": "2022-11-01T10:29:14.318622Z"
    },
    "papermill": {
     "duration": 0.692936,
     "end_time": "2022-11-01T10:29:14.323338",
     "exception": false,
     "start_time": "2022-11-01T10:29:13.630402",
     "status": "completed"
    },
    "tags": []
   },
   "outputs": [
    {
     "data": {
      "text/plain": [
       "LGBMRegressor(colsample_bytree=0.9, learning_rate=0.03, n_estimators=1000,\n",
       "              random_state=34, subsample=0.9)"
      ]
     },
     "execution_count": 30,
     "metadata": {},
     "output_type": "execute_result"
    }
   ],
   "source": [
    "model.fit(\n",
    "        x_train, np.log1p(y_train),\n",
    "        eval_set = [(x_valid, np.log1p(y_valid))],\n",
    "        early_stopping_rounds = 50,\n",
    "        verbose = 100,\n",
    "        eval_metric = 'rmse'\n",
    "    )"
   ]
  },
  {
   "cell_type": "code",
   "execution_count": 31,
   "id": "80bf2128",
   "metadata": {
    "execution": {
     "iopub.execute_input": "2022-11-01T10:29:14.354759Z",
     "iopub.status.busy": "2022-11-01T10:29:14.354055Z",
     "iopub.status.idle": "2022-11-01T10:29:14.370610Z",
     "shell.execute_reply": "2022-11-01T10:29:14.369370Z"
    },
    "papermill": {
     "duration": 0.034276,
     "end_time": "2022-11-01T10:29:14.372967",
     "exception": false,
     "start_time": "2022-11-01T10:29:14.338691",
     "status": "completed"
    },
    "tags": []
   },
   "outputs": [
    {
     "data": {
      "text/html": [
       "<div>\n",
       "<style scoped>\n",
       "    .dataframe tbody tr th:only-of-type {\n",
       "        vertical-align: middle;\n",
       "    }\n",
       "\n",
       "    .dataframe tbody tr th {\n",
       "        vertical-align: top;\n",
       "    }\n",
       "\n",
       "    .dataframe thead th {\n",
       "        text-align: right;\n",
       "    }\n",
       "</style>\n",
       "<table border=\"1\" class=\"dataframe\">\n",
       "  <thead>\n",
       "    <tr style=\"text-align: right;\">\n",
       "      <th></th>\n",
       "      <th>feature</th>\n",
       "      <th>importance</th>\n",
       "    </tr>\n",
       "  </thead>\n",
       "  <tbody>\n",
       "    <tr>\n",
       "      <th>22</th>\n",
       "      <td>rec_dayofmonth</td>\n",
       "      <td>2184.051979</td>\n",
       "    </tr>\n",
       "    <tr>\n",
       "      <th>2</th>\n",
       "      <td>hits</td>\n",
       "      <td>1370.217010</td>\n",
       "    </tr>\n",
       "    <tr>\n",
       "      <th>0</th>\n",
       "      <td>channelGrouping</td>\n",
       "      <td>1077.901001</td>\n",
       "    </tr>\n",
       "    <tr>\n",
       "      <th>20</th>\n",
       "      <td>rec_dayofweek</td>\n",
       "      <td>566.035995</td>\n",
       "    </tr>\n",
       "    <tr>\n",
       "      <th>5</th>\n",
       "      <td>device.operatingSystem</td>\n",
       "      <td>354.673996</td>\n",
       "    </tr>\n",
       "    <tr>\n",
       "      <th>16</th>\n",
       "      <td>totals.pageviews</td>\n",
       "      <td>265.623993</td>\n",
       "    </tr>\n",
       "    <tr>\n",
       "      <th>13</th>\n",
       "      <td>geoNetwork.city</td>\n",
       "      <td>192.095993</td>\n",
       "    </tr>\n",
       "    <tr>\n",
       "      <th>9</th>\n",
       "      <td>geoNetwork.subContinent</td>\n",
       "      <td>173.393005</td>\n",
       "    </tr>\n",
       "    <tr>\n",
       "      <th>14</th>\n",
       "      <td>geoNetwork.networkDomain</td>\n",
       "      <td>172.865005</td>\n",
       "    </tr>\n",
       "    <tr>\n",
       "      <th>21</th>\n",
       "      <td>rec_hours</td>\n",
       "      <td>135.039993</td>\n",
       "    </tr>\n",
       "  </tbody>\n",
       "</table>\n",
       "</div>"
      ],
      "text/plain": [
       "                     feature   importance\n",
       "22            rec_dayofmonth  2184.051979\n",
       "2                       hits  1370.217010\n",
       "0            channelGrouping  1077.901001\n",
       "20             rec_dayofweek   566.035995\n",
       "5     device.operatingSystem   354.673996\n",
       "16          totals.pageviews   265.623993\n",
       "13           geoNetwork.city   192.095993\n",
       "9    geoNetwork.subContinent   173.393005\n",
       "14  geoNetwork.networkDomain   172.865005\n",
       "21                 rec_hours   135.039993"
      ]
     },
     "execution_count": 31,
     "metadata": {},
     "output_type": "execute_result"
    }
   ],
   "source": [
    "feat_impr = pd.DataFrame()\n",
    "feat_impr['feature'] = x_train.columns\n",
    "feat_impr['importance'] = model.booster_.feature_importance(importance_type = 'gain')\n",
    "feat_impr.sort_values(by = 'importance', ascending = False)[:10]"
   ]
  },
  {
   "cell_type": "code",
   "execution_count": 32,
   "id": "ea4bae11",
   "metadata": {
    "execution": {
     "iopub.execute_input": "2022-11-01T10:29:14.403051Z",
     "iopub.status.busy": "2022-11-01T10:29:14.402495Z",
     "iopub.status.idle": "2022-11-01T10:29:14.419928Z",
     "shell.execute_reply": "2022-11-01T10:29:14.418665Z"
    },
    "papermill": {
     "duration": 0.036787,
     "end_time": "2022-11-01T10:29:14.423755",
     "exception": false,
     "start_time": "2022-11-01T10:29:14.386968",
     "status": "completed"
    },
    "tags": []
   },
   "outputs": [],
   "source": [
    "valid_preds = model.predict(x_valid, num_iteration = model.best_iteration_)\n",
    "valid_preds[valid_preds < 0] = 0"
   ]
  },
  {
   "cell_type": "code",
   "execution_count": 33,
   "id": "908bfa26",
   "metadata": {
    "execution": {
     "iopub.execute_input": "2022-11-01T10:29:14.455675Z",
     "iopub.status.busy": "2022-11-01T10:29:14.455210Z",
     "iopub.status.idle": "2022-11-01T10:29:14.465085Z",
     "shell.execute_reply": "2022-11-01T10:29:14.464017Z"
    },
    "papermill": {
     "duration": 0.02743,
     "end_time": "2022-11-01T10:29:14.467389",
     "exception": false,
     "start_time": "2022-11-01T10:29:14.439959",
     "status": "completed"
    },
    "tags": []
   },
   "outputs": [
    {
     "data": {
      "text/plain": [
       "3.032350405032811"
      ]
     },
     "execution_count": 33,
     "metadata": {},
     "output_type": "execute_result"
    }
   ],
   "source": [
    "mean_squared_error(np.log1p(y_valid), valid_preds)"
   ]
  },
  {
   "cell_type": "code",
   "execution_count": 34,
   "id": "ca2077c4",
   "metadata": {
    "execution": {
     "iopub.execute_input": "2022-11-01T10:29:14.497690Z",
     "iopub.status.busy": "2022-11-01T10:29:14.496377Z",
     "iopub.status.idle": "2022-11-01T10:29:14.508428Z",
     "shell.execute_reply": "2022-11-01T10:29:14.507054Z"
    },
    "papermill": {
     "duration": 0.029826,
     "end_time": "2022-11-01T10:29:14.511088",
     "exception": false,
     "start_time": "2022-11-01T10:29:14.481262",
     "status": "completed"
    },
    "tags": []
   },
   "outputs": [
    {
     "data": {
      "text/html": [
       "<div>\n",
       "<style scoped>\n",
       "    .dataframe tbody tr th:only-of-type {\n",
       "        vertical-align: middle;\n",
       "    }\n",
       "\n",
       "    .dataframe tbody tr th {\n",
       "        vertical-align: top;\n",
       "    }\n",
       "\n",
       "    .dataframe thead th {\n",
       "        text-align: right;\n",
       "    }\n",
       "</style>\n",
       "<table border=\"1\" class=\"dataframe\">\n",
       "  <thead>\n",
       "    <tr style=\"text-align: right;\">\n",
       "      <th></th>\n",
       "      <th>Valid_preds</th>\n",
       "    </tr>\n",
       "  </thead>\n",
       "  <tbody>\n",
       "    <tr>\n",
       "      <th>35170</th>\n",
       "      <td>0.185436</td>\n",
       "    </tr>\n",
       "    <tr>\n",
       "      <th>35171</th>\n",
       "      <td>0.185436</td>\n",
       "    </tr>\n",
       "    <tr>\n",
       "      <th>35172</th>\n",
       "      <td>0.185436</td>\n",
       "    </tr>\n",
       "    <tr>\n",
       "      <th>35173</th>\n",
       "      <td>0.185436</td>\n",
       "    </tr>\n",
       "    <tr>\n",
       "      <th>35174</th>\n",
       "      <td>0.185436</td>\n",
       "    </tr>\n",
       "  </tbody>\n",
       "</table>\n",
       "</div>"
      ],
      "text/plain": [
       "       Valid_preds\n",
       "35170     0.185436\n",
       "35171     0.185436\n",
       "35172     0.185436\n",
       "35173     0.185436\n",
       "35174     0.185436"
      ]
     },
     "execution_count": 34,
     "metadata": {},
     "output_type": "execute_result"
    }
   ],
   "source": [
    "pd.DataFrame(valid_preds,columns={'Valid_preds':'O'}).loc[35170:]"
   ]
  },
  {
   "cell_type": "code",
   "execution_count": 35,
   "id": "989be443",
   "metadata": {
    "execution": {
     "iopub.execute_input": "2022-11-01T10:29:14.541070Z",
     "iopub.status.busy": "2022-11-01T10:29:14.540649Z",
     "iopub.status.idle": "2022-11-01T10:29:14.565527Z",
     "shell.execute_reply": "2022-11-01T10:29:14.555292Z"
    },
    "papermill": {
     "duration": 0.04335,
     "end_time": "2022-11-01T10:29:14.568549",
     "exception": false,
     "start_time": "2022-11-01T10:29:14.525199",
     "status": "completed"
    },
    "tags": []
   },
   "outputs": [],
   "source": [
    "pickle.dump(model,open('model.pkl','wb'))"
   ]
  },
  {
   "cell_type": "code",
   "execution_count": null,
   "id": "e0156fa6",
   "metadata": {
    "papermill": {
     "duration": 0.01411,
     "end_time": "2022-11-01T10:29:14.597129",
     "exception": false,
     "start_time": "2022-11-01T10:29:14.583019",
     "status": "completed"
    },
    "tags": []
   },
   "outputs": [],
   "source": []
  }
 ],
 "metadata": {
  "kernelspec": {
   "display_name": "Python 3",
   "language": "python",
   "name": "python3"
  },
  "language_info": {
   "codemirror_mode": {
    "name": "ipython",
    "version": 3
   },
   "file_extension": ".py",
   "mimetype": "text/x-python",
   "name": "python",
   "nbconvert_exporter": "python",
   "pygments_lexer": "ipython3",
   "version": "3.7.12"
  },
  "papermill": {
   "default_parameters": {},
   "duration": 306.394173,
   "end_time": "2022-11-01T10:29:17.334934",
   "environment_variables": {},
   "exception": null,
   "input_path": "__notebook__.ipynb",
   "output_path": "__notebook__.ipynb",
   "parameters": {},
   "start_time": "2022-11-01T10:24:10.940761",
   "version": "2.3.4"
  }
 },
 "nbformat": 4,
 "nbformat_minor": 5
}
